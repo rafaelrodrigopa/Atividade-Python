{
  "cells": [
    {
      "cell_type": "markdown",
      "metadata": {
        "id": "4onrAZlrkshq"
      },
      "source": [
        "# Algoritmo de Sistema de produção (Jogo Herói e Vilão)\n",
        "\n",
        "Objetivo do jogo é que o herói ande pelas células até encontrar o vilão."
      ]
    },
    {
      "cell_type": "code",
      "execution_count": 73,
      "metadata": {
        "id": "pJCaEfIakqrN"
      },
      "outputs": [],
      "source": [
        "# Mundo do jogo\n",
        "mundo = [[0, 'V', 0, 0], [0, 0, 0, 0], [0, 0, 'H', 0], [0, 0, 0, 0]]"
      ]
    },
    {
      "cell_type": "code",
      "execution_count": 74,
      "metadata": {
        "id": "UqD2I8gKnCLx"
      },
      "outputs": [
        {
          "data": {
            "text/plain": [
              "1"
            ]
          },
          "execution_count": 74,
          "metadata": {},
          "output_type": "execute_result"
        }
      ],
      "source": [
        "# Defini a posição inicial do vilão e do herói\n",
        "posicao_heroi = (2, 2)\n",
        "posicao_vilao = (0, 1)\n",
        "heuristica_heroi = sum(posicao_heroi)\n",
        "heuristica_vilao = sum(posicao_vilao)\n",
        "bordas = (0,3)\n",
        "barreira_one = (0,1)\n",
        "barreira_one[1]\n"
      ]
    },
    {
      "cell_type": "code",
      "execution_count": 15,
      "metadata": {},
      "outputs": [
        {
          "data": {
            "text/plain": [
              "4"
            ]
          },
          "execution_count": 15,
          "metadata": {},
          "output_type": "execute_result"
        }
      ],
      "source": [
        "heuristica_heroi"
      ]
    },
    {
      "cell_type": "code",
      "execution_count": 16,
      "metadata": {},
      "outputs": [
        {
          "data": {
            "text/plain": [
              "1"
            ]
          },
          "execution_count": 16,
          "metadata": {},
          "output_type": "execute_result"
        }
      ],
      "source": [
        "heuristica_vilao"
      ]
    },
    {
      "cell_type": "code",
      "execution_count": 37,
      "metadata": {
        "colab": {
          "base_uri": "https://localhost:8080/"
        },
        "id": "kJ3GWrCmPm-Q",
        "outputId": "91ab671d-e1d8-49b0-bd01-5459b747739d"
      },
      "outputs": [
        {
          "data": {
            "text/plain": [
              "3"
            ]
          },
          "execution_count": 37,
          "metadata": {},
          "output_type": "execute_result"
        }
      ],
      "source": [
        "bordas[1]"
      ]
    },
    {
      "cell_type": "code",
      "execution_count": 38,
      "metadata": {
        "id": "Z7pg3SZQqlF6"
      },
      "outputs": [],
      "source": [
        "tamanho_passo = 1\n",
        "\n",
        "def LimpaPosicaoAnterior(linha, coluna):\n",
        "    mundo[linha][coluna] = 0 \n",
        "\n",
        "def caminhar_pelo_mundo(linha, coluna, persona):\n",
        "  mundo[linha][coluna] = persona\n",
        "  imprimir_mundo()\n",
        "\n",
        "def dar_passo_esquerda(linha, coluna, persona) :\n",
        "  LimpaPosicaoAnterior(linha, coluna)\n",
        "  caminhar_pelo_mundo(linha, coluna - tamanho_passo, persona)\n",
        "  \n",
        "def dar_passo_direita(linha, coluna, persona) :\n",
        "  LimpaPosicaoAnterior(linha, coluna)\n",
        "  caminhar_pelo_mundo(linha, coluna + tamanho_passo, persona)\n",
        "  \n",
        "def dar_passo_cima(linha, coluna, persona) :\n",
        "  LimpaPosicaoAnterior(linha, coluna)\n",
        "  caminhar_pelo_mundo(linha - tamanho_passo, coluna, persona)\n",
        "  \n",
        "def dar_passo_baixo(linha, coluna, persona) :\n",
        "  LimpaPosicaoAnterior(linha, coluna)\n",
        "  caminhar_pelo_mundo(linha + tamanho_passo, coluna, persona)"
      ]
    },
    {
      "cell_type": "code",
      "execution_count": 39,
      "metadata": {
        "id": "yp1pmXJ0llDx"
      },
      "outputs": [],
      "source": [
        "def imprimir_mundo():\n",
        "  for linha in range(0, 4):\n",
        "    for coluna in range(0, 4):\n",
        "      print(f'[{mundo[linha][coluna]:^3}]', end='')\n",
        "    print()\n",
        "  print()"
      ]
    },
    {
      "cell_type": "code",
      "execution_count": 75,
      "metadata": {
        "colab": {
          "base_uri": "https://localhost:8080/"
        },
        "id": "V2HoVYLRpwAo",
        "outputId": "40bb8151-43c1-4d93-efef-7e6d644bf868"
      },
      "outputs": [
        {
          "name": "stdout",
          "output_type": "stream",
          "text": [
            "[ 0 ][ V ][ 0 ][ 0 ]\n",
            "[ 0 ][ 0 ][ 0 ][ 0 ]\n",
            "[ 0 ][ H ][ 0 ][ 0 ]\n",
            "[ 0 ][ 0 ][ 0 ][ 0 ]\n",
            "\n",
            "[ 0 ][ V ][ 0 ][ 0 ]\n",
            "[ 0 ][ H ][ 0 ][ 0 ]\n",
            "[ 0 ][ 0 ][ 0 ][ 0 ]\n",
            "[ 0 ][ 0 ][ 0 ][ 0 ]\n",
            "\n",
            "Movimentar Vilão\n"
          ]
        }
      ],
      "source": [
        "# regras definidas\n",
        "\n",
        "vilao_vivo = True\n",
        "rodadas_movimentar = 5\n",
        "\n",
        "\n",
        "while (vilao_vivo):\n",
        "  if posicao_heroi == posicao_vilao:\n",
        "    vilao_vivo = False\n",
        "    print(\"Vilão está morto\\n\")\n",
        "    imprimir_mundo()\n",
        "    break\n",
        "  \n",
        "  if posicao_heroi[1] > posicao_vilao[1] and (posicao_heroi[1] - 1) <= bordas[1]:\n",
        "    dar_passo_esquerda(posicao_heroi[0], posicao_heroi[1], 'H')\n",
        "    posicao_heroi = (posicao_heroi[0], posicao_heroi[1] - 1)\n",
        "\n",
        "  if posicao_heroi[1] < posicao_vilao[1] and (posicao_heroi[1] + 1) <= bordas[1]:\n",
        "    dar_passo_direita(posicao_heroi[0], posicao_heroi[1], 'H')\n",
        "    posicao_heroi = (posicao_heroi[0], posicao_heroi[1] + 1)\n",
        "\n",
        " # Acrescentado barreira abaixo do vilão impedindo o Hério de capira-lo na quantidade de movimentos estabelecidos\n",
        "  if posicao_heroi[0] > posicao_vilao[0] and (posicao_heroi[0] - 1) >= bordas[0] and ((posicao_heroi[0] - 1 ) >= barreira_one[1]):\n",
        "    dar_passo_cima(posicao_heroi[0], posicao_heroi[1], 'H')\n",
        "    posicao_heroi = (posicao_heroi[0] - 1, posicao_heroi[1])\n",
        "    \n",
        "  if posicao_heroi[0] < posicao_vilao[0] and (posicao_heroi[0] + 1) >= bordas[0]:\n",
        "    dar_passo_baixo(posicao_heroi[0], posicao_heroi[1], 'H')\n",
        "    posicao_heroi = (posicao_heroi[0] + 1, posicao_heroi[1])\n",
        "\n",
        "  rodadas_movimentar -= 1\n",
        "  if rodadas_movimentar == 0:\n",
        "    print(\"Movimentar Vilão\")\n",
        "    ## Movimentar o vilao de forma pseudoaleatória\n",
        "\n"
      ]
    }
  ],
  "metadata": {
    "colab": {
      "collapsed_sections": [],
      "name": "Exemplo_Heroi_e_Vilao.ipynb",
      "provenance": []
    },
    "kernelspec": {
      "display_name": "Python 3",
      "name": "python3"
    },
    "language_info": {
      "codemirror_mode": {
        "name": "ipython",
        "version": 3
      },
      "file_extension": ".py",
      "mimetype": "text/x-python",
      "name": "python",
      "nbconvert_exporter": "python",
      "pygments_lexer": "ipython3",
      "version": "3.10.2"
    }
  },
  "nbformat": 4,
  "nbformat_minor": 0
}
